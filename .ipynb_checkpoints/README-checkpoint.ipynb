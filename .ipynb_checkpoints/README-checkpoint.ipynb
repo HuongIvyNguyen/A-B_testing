{
 "cells": [
  {
   "cell_type": "markdown",
   "metadata": {},
   "source": [
    "# Design and Analyze A/B Testing: a case of Udacity Free Trial Screener\n",
    "by Huong Ivy Nguyen, in fulfilling of Udacity's Data Analyst Nanodegree, Project 7\n",
    "\n",
    "## Introduction (obtained from Udacity's instruction for this course)\n",
    "\n",
    "In this project, we will be testing a new feature that Udacity added to their home page (at the time of the experiment). In particular, Udacity courses havw two options on the home page: \"start free trial\" and \"access course materials\". If the student clicks \"start free trial\", they will be asked to enter their credit card information, and then they will be enrolled in a free trial for the paid version of the course. After 14 days, they will automatically be charged unless they cancel first. If the student clicks \"access course materials\", they will be able to view the videos and take the quizzes for free, but they will not receive coaching support or a verified certificate, and they will not submit their final project for feedback.\n",
    "\n",
    "In the experiment, Udacity tested a change where if the student clicked \"start free trial\", they were asked how much time they had available to devote to the course. If the student indicated 5 or more hours per week, they would be taken through the checkout process as usual. If they indicated fewer than 5 hours per week, a message would appear indicating that Udacity courses usually require a greater time commitment for successful completion, and suggesting that the student might like to access the course materials for free. At this point, the student would have the option to continue enrolling in the free trial, or access the course materials for free instead.\n",
    "\n",
    "The hypothesis was that this might set clearer expectations for students upfront, thus reducing the number of frustrated students who left the free trial because they didn't have enough time—without significantly reducing the number of students to continue past the free trial and eventually complete the course. If this hypothesis held true, Udacity could improve the overall student experience and improve coaches' capacity to support students who are likely to complete the course.\n",
    "The unit of diversion is a cookie, although if the student enrolls in the free trial, they are tracked by user-id from that point forward. The same user-id cannot enroll in the free trial twice. For users that do not enroll, their user-id is not tracked in the experiment, even if they were signed in when they visited the course overview page.\n",
    "\n",
    "## Experimental Design \n",
    "\n",
    "### 1.1 Metric choice\n",
    "\n",
    "+ **Invariant metrics**: Number of cookies, Number of clicks\n",
    "+ **Evaluation metrics**: Gross conversion, Retention, and Net conversion\n",
    "\n",
    "1. Number of cookies is the number of unique users to visit the course overview page. In this experiment, the Unit of Diversion is cookies, and it is evenly distributed among experimental and control group. Since the visits must happen before the users see the page indicated for the experiment, the number of cookies is independent from the experiment and thus can be chosen as one of the invariant metrics. \n",
    "2. Number of user-id is the number of users enrolled in the free trial. This is not an ideal metric for both evaluation and invariant metrics. This is because the number of users enrolled in the free trial can be fluctuated every day and thus we would not be able to obtain a good repeatability for the experimental results using this variable. \n",
    "3. Number of clicks is the number of cookies to click the start free trial botton. Since the action of clicking the free trial botton happens before the users see the experimental set-up, it should not be dependent on the experiment and thus is considered as one of the invariant metrics. One thing to be noted for this experiment is that the overview page is kept the same for both experimental and control groups until the users click the free trial botton.\n",
    "4. Click-through probability is another good invariant metric since the clicks can be happened before the users see the experiment. Click-through probability is the number of unique cookies to click the 'start free trial' botton out of the number of unique cookies to the view the course overview page. \n",
    "5. Gross conversion is the number of users who complete the enrollment for the free trials over the number of users who clicked the \"start free trial\" button. This is a good evaluation metrics since it is directly related to the experimental set-up and it is dependent on the effect of the new feature added on the overview page. The underlying assumption here is that the gross conversion of the control group, which does not see the new feature added to the overview page, is higher than that of the experimental group, which will get to see a pop-up page asking them whether they will have enough time to devote for the course. \n",
    "4. Retention is the number of user-ids to remain enrolled for 14-day-trial period and make their first payment out of the total number of user-ids enrolled in the free trial. This is also another good evaluation metrics. As in the case of gross conversion, users in the experimental group are aware of the time commitment for the courses. Hence, those who choose to enroll in the free trials would more than likely to stay enrolled and finish the courses. That implies the retention might be higher for the experimental group than that for the control group. \n",
    "5. Net conversion is the number of user-ids remained enrolled for 14-day-trial period and at least make their first payment out of the number of users clicked the start free trial botton. This metric is dependent on the experimental setup and thus can also be used as one of the evaluation metrics. For the experimental group, since the users are aware of the time commitment required for the course, they can cancel their payment before the 14 days trial period. However, the control group is not aware of this time factor and could absolutely keep paying for the courses without noticing the minimum time requirement. This evaluation metric will help us identify whether having the \"5 hours or more\" botton would increase the ratio of users who make the payment over the total uders who see the start free trial botton. \n",
    "\n",
    "The overall expectation can be summerized as follow: \n",
    "\n",
    "+ The gross conversion of the control group is higher than that for the experimental group (please see explaination above)\n",
    "+ The retention for the experimental group is higher than that for the control group since the former group is aware of the time commitment while the latter is not. \n",
    "+ The net conversion will not decrease significantly, which indicates whether or not the new added feature affect the revenues of the company.\n",
    "\n",
    "### 1.3 Measuring Variability\n",
    "\n",
    "#### Set up calculation for the obtained data: "
   ]
  },
  {
   "cell_type": "code",
   "execution_count": 5,
   "metadata": {},
   "outputs": [
    {
     "ename": "ImportError",
     "evalue": "No module named numpy",
     "output_type": "error",
     "traceback": [
      "\u001b[0;31m---------------------------------------------------------------------------\u001b[0m",
      "\u001b[0;31mImportError\u001b[0m                               Traceback (most recent call last)",
      "\u001b[0;32m<ipython-input-5-d59e6d036d27>\u001b[0m in \u001b[0;36m<module>\u001b[0;34m()\u001b[0m\n\u001b[0;32m----> 1\u001b[0;31m \u001b[0;32mimport\u001b[0m \u001b[0mnumpy\u001b[0m \u001b[0;32mas\u001b[0m \u001b[0mnp\u001b[0m\u001b[0;34m\u001b[0m\u001b[0m\n\u001b[0m\u001b[1;32m      2\u001b[0m \u001b[0mdata\u001b[0m \u001b[0;34m=\u001b[0m \u001b[0mnp\u001b[0m\u001b[0;34m.\u001b[0m\u001b[0mread_csv\u001b[0m\u001b[0;34m(\u001b[0m\u001b[0;34m\"data.csv\"\u001b[0m\u001b[0;34m)\u001b[0m\u001b[0;34m\u001b[0m\u001b[0m\n",
      "\u001b[0;31mImportError\u001b[0m: No module named numpy"
     ]
    }
   ],
   "source": [
    "import numpy as np\n",
    "data = np.read_csv(\"data.csv\")"
   ]
  },
  {
   "cell_type": "code",
   "execution_count": null,
   "metadata": {
    "collapsed": true
   },
   "outputs": [],
   "source": []
  }
 ],
 "metadata": {
  "kernelspec": {
   "display_name": "Python 2",
   "language": "python",
   "name": "python2"
  },
  "language_info": {
   "codemirror_mode": {
    "name": "ipython",
    "version": 2
   },
   "file_extension": ".py",
   "mimetype": "text/x-python",
   "name": "python",
   "nbconvert_exporter": "python",
   "pygments_lexer": "ipython2",
   "version": "2.7.12"
  }
 },
 "nbformat": 4,
 "nbformat_minor": 2
}
